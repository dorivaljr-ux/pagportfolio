{
  "nbformat": 4,
  "nbformat_minor": 0,
  "metadata": {
    "colab": {
      "name": "2 aula programação",
      "provenance": [],
      "collapsed_sections": [],
      "authorship_tag": "ABX9TyMsTMzFfHSCEIoztAz9jEzT",
      "include_colab_link": true
    },
    "kernelspec": {
      "name": "python3",
      "display_name": "Python 3"
    },
    "language_info": {
      "name": "python"
    }
  },
  "cells": [
    {
      "cell_type": "markdown",
      "metadata": {
        "id": "view-in-github",
        "colab_type": "text"
      },
      "source": [
        "<a href=\"https://colab.research.google.com/github/dorivaljr-ux/achoquen-ovaidar/blob/main/2_aula_programa%C3%A7%C3%A3o.ipynb\" target=\"_parent\"><img src=\"https://colab.research.google.com/assets/colab-badge.svg\" alt=\"Open In Colab\"/></a>"
      ]
    },
    {
      "cell_type": "code",
      "metadata": {
        "colab": {
          "base_uri": "https://localhost:8080/"
        },
        "id": "hd3bfqZ9nmzV",
        "outputId": "7fae7803-27e2-4562-c8e8-f8c4097d289f"
      },
      "source": [
        "a = \"Hoje é segunda-feira! !\"\n",
        "b = 16\n",
        "\n",
        "print (a,b)\n",
        "\n",
        "print(a, 'Dia', b)"
      ],
      "execution_count": 3,
      "outputs": [
        {
          "output_type": "stream",
          "text": [
            "Hoje é segunda-feira! ! 16\n",
            "Hoje é segunda-feira! ! Dia 16\n"
          ],
          "name": "stdout"
        }
      ]
    },
    {
      "cell_type": "code",
      "metadata": {
        "colab": {
          "base_uri": "https://localhost:8080/"
        },
        "id": "ITqx_JfGptYU",
        "outputId": "dca62710-10e2-4631-e8dc-13de685997b3"
      },
      "source": [
        "a = float(input('Digite o primeiro número: '))\n",
        "b = float(input('Digite o segundo número: '))\n",
        "\n",
        "print(a+b)"
      ],
      "execution_count": 10,
      "outputs": [
        {
          "output_type": "stream",
          "text": [
            "Digite o primeiro número: 3\n",
            "Digite o segundo número: 5\n",
            "8.0\n"
          ],
          "name": "stdout"
        }
      ]
    },
    {
      "cell_type": "code",
      "metadata": {
        "colab": {
          "base_uri": "https://localhost:8080/"
        },
        "id": "wyYVsbgprrp_",
        "outputId": "781738d9-cff8-4fa3-d778-c39590217931"
      },
      "source": [
        "num1 = float(input('Digite um número: '))\n",
        "num2 = float(input('Digite outro número: '))\n",
        "\n",
        "print('A soma dos dois números é', num1 + num2)\n",
        "print('A subtração dos dois números é', num1 - num2)\n",
        "print('A multiplicação dos dois números é', num1 * num2)\n",
        "print('A divisão dois números é', num1 / num2)\n",
        "print('A exponenciação dos dois números é', num1 ** num2)"
      ],
      "execution_count": 16,
      "outputs": [
        {
          "output_type": "stream",
          "text": [
            "Digite um número: 5\n",
            "Digite outro número: 2\n",
            "A soma dos dois números é 7.0\n",
            "A subtração dos dois números é 3.0\n",
            "A multiplicação dos dois números é 10.0\n",
            "A divisão dois números é 2.5\n",
            "A exponenciação dos dois números é 25.0\n"
          ],
          "name": "stdout"
        }
      ]
    },
    {
      "cell_type": "code",
      "metadata": {
        "colab": {
          "base_uri": "https://localhost:8080/"
        },
        "id": "39YrdbRcxwIV",
        "outputId": "fa6ee60c-e301-46b4-e622-e12f45c889d1"
      },
      "source": [
        "num1 = float(input('Digite um número: '))\n",
        "num2 = float(input('Digite outro número: '))\n",
        "\n",
        "soma = num1 + num2\n",
        "sub = num1 - num2\n",
        "multi = num1 * num2\n",
        "div = num1 / num2\n",
        "\n",
        "print('A soma dos dois números é', soma)\n",
        "print('A subtração dos dois números é', sub)\n",
        "print('A multiplicação dos dois números é', multi)\n",
        "print(f'A divisão dois números é {div:.2f}')"
      ],
      "execution_count": 22,
      "outputs": [
        {
          "output_type": "stream",
          "text": [
            "Digite um número: 5\n",
            "Digite outro número: 2\n",
            "A soma dos dois números é 7.0\n",
            "A subtração dos dois números é 3.0\n",
            "A multiplicação dos dois números é 10.0\n",
            "A divisão dois números é 2.50\n"
          ],
          "name": "stdout"
        }
      ]
    },
    {
      "cell_type": "code",
      "metadata": {
        "colab": {
          "base_uri": "https://localhost:8080/"
        },
        "id": "CVrrkpXK0y7L",
        "outputId": "2b1091eb-b71e-4cc0-8b87-20510e4a6de8"
      },
      "source": [
        "bim1 = float(input('Digite a nota do bimestre 1: '))\n",
        "bim2 = float(input('Digite a nota do bimestre 2: '))\n",
        "bim3 = float(input('Digite a nota do bimestre 3: '))\n",
        "bim4 = float(input('Digite a nota do bimestre 4: '))\n",
        "\n",
        "media = (bim1 + bim2 + bim3 + bim4)/4\n",
        "\n",
        "print(\"A média desse estudante foi: \", media)"
      ],
      "execution_count": 32,
      "outputs": [
        {
          "output_type": "stream",
          "text": [
            "Digite a nota do bimestre 1: 26\n",
            "Digite a nota do bimestre 2: 29\n",
            "Digite a nota do bimestre 3: 27\n",
            "Digite a nota do bimestre 4: 25\n",
            "A média desse estudante foi:  26.75\n"
          ],
          "name": "stdout"
        }
      ]
    },
    {
      "cell_type": "markdown",
      "metadata": {
        "id": "_hAcfTeo6lGc"
      },
      "source": [
        "Código do Sor\n"
      ]
    },
    {
      "cell_type": "code",
      "metadata": {
        "colab": {
          "base_uri": "https://localhost:8080/"
        },
        "id": "6yRK5DPz6oDz",
        "outputId": "29d41267-58f7-49ae-d12e-2029117c6808"
      },
      "source": [
        "nome = input('Digite o nome do aluno')\n",
        "n1 = float(input('Digite a primeira nota'))\n",
        "n2 = float(input('Digite a segunda nota'))\n",
        "n3 = float(input('Digite a terceira nota'))\n",
        "n4 = float(input('Digite a quarta nota'))\n",
        "\n",
        "media = (n1 + n2 + n3 + n4)/4\n",
        "\n",
        "#print(nome)\n",
        "#print(media)\n",
        "\n",
        "print(f'O aluno{nome} ficou com media {media:.2f}')\n"
      ],
      "execution_count": 35,
      "outputs": [
        {
          "output_type": "stream",
          "text": [
            "Digite o nome do aluno 27\n",
            "Digite a primeira nota 27\n",
            "Digite a segunda nota 27\n",
            "Digite a terceira nota 27\n",
            "Digite a quarta nota 27\n",
            "O aluno 27 ficou com media 27.00\n"
          ],
          "name": "stdout"
        }
      ]
    },
    {
      "cell_type": "markdown",
      "metadata": {
        "id": "32AKz4mo-YYf"
      },
      "source": [
        "Desconto do celular"
      ]
    },
    {
      "cell_type": "code",
      "metadata": {
        "colab": {
          "base_uri": "https://localhost:8080/"
        },
        "id": "WdVwVkuC-b-M",
        "outputId": "ef3a88ac-7b1c-4feb-ed2c-92b54d88c270"
      },
      "source": [
        "valor = float(input('Preço'))\n",
        "desconto = float(input('Porcentagem'))\n",
        "\n",
        "cálculo = valor * desconto/100\n",
        "\n",
        "print('o valor do desconto é', cálculo)\n",
        "\n",
        "\n",
        "\n",
        "\n",
        "\n"
      ],
      "execution_count": 41,
      "outputs": [
        {
          "output_type": "stream",
          "text": [
            "Preço 900\n",
            "Porcentagem 10\n",
            "o valor do desconto é 90.0\n"
          ],
          "name": "stdout"
        }
      ]
    }
  ]
}